{
 "cells": [
  {
   "cell_type": "code",
   "execution_count": null,
   "metadata": {},
   "outputs": [],
   "source": [
    "# create a conda environment and install datasets\n",
    "# conda create --name test python=3.7\n",
    "# conda activate test\n",
    "# conda install -c conda-forge datasets\n",
    "# pip install datasets\n",
    "\n",
    "\n",
    "from datasets import load_from_disk\n",
    "\n",
    "dataset = load_from_disk(f\"/mounts/data/proj/ayyoob/1000LM/final_data_cleaned2/ceb_Latn\")['test']\n",
    "for idx, item in enumerate(dataset):\n",
    "    print(item.keys())\n",
    "    print(item['text'])"
   ]
  },
  {
   "cell_type": "code",
   "execution_count": null,
   "metadata": {},
   "outputs": [],
   "source": []
  }
 ],
 "metadata": {
  "language_info": {
   "name": "python"
  },
  "orig_nbformat": 4
 },
 "nbformat": 4,
 "nbformat_minor": 2
}
