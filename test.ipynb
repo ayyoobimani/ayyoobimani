{
 "cells": [
  {
   "cell_type": "code",
   "execution_count": 2,
   "metadata": {},
   "outputs": [
    {
     "name": "stdout",
     "output_type": "stream",
     "text": [
      "dict_keys(['text', 'dataset', 'line_num', 'hash', 'script', 'lang_script'])\n",
      "Si Jesus miingon kanila : Ang akong kalan-on mao ang pagbuhat sa kabubut-on sa nagsugo kanako , ug ang paghingpit sa iyang buhat .\n"
     ]
    }
   ],
   "source": [
    "# create a conda environment and install datasets\n",
    "# conda create --name test python=3.7\n",
    "# conda activate test\n",
    "# pip install datasets\n",
    "\n",
    "# I use vscode + jupyter plugin to run this file you can use whatever setup that you like\n",
    "\n",
    "\n",
    "from datasets import load_from_disk\n",
    "\n",
    "# you can load the whole data set or a part like test.\n",
    "# the other parts are train and dev\n",
    "dataset = load_from_disk(f\"/mounts/data/proj/ayyoob/1000LM/final_data_cleaned2/ceb_Latn\")['test']\n",
    "for idx, item in enumerate(dataset):\n",
    "    print(item.keys())\n",
    "    print(item['text'])\n",
    "    break"
   ]
  }
 ],
 "metadata": {
  "kernelspec": {
   "display_name": "1000LM2",
   "language": "python",
   "name": "python3"
  },
  "language_info": {
   "codemirror_mode": {
    "name": "ipython",
    "version": 3
   },
   "file_extension": ".py",
   "mimetype": "text/x-python",
   "name": "python",
   "nbconvert_exporter": "python",
   "pygments_lexer": "ipython3",
   "version": "3.7.13"
  },
  "orig_nbformat": 4,
  "vscode": {
   "interpreter": {
    "hash": "c72a77f2e472013e0c751285840e85db90eb16f81488e902865c0820a397fb58"
   }
  }
 },
 "nbformat": 4,
 "nbformat_minor": 2
}
